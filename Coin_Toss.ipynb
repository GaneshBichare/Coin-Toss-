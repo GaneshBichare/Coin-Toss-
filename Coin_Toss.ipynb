{
 "cells": [
  {
   "cell_type": "code",
   "execution_count": null,
   "id": "f6fbf8db",
   "metadata": {},
   "outputs": [],
   "source": [
    "import random\n",
    "\n",
    "# Welcome message\n",
    "print(\"Welcome to Heads and Tails game\")\n",
    "\n",
    "# Define valid inputs for Heads (0) and Tails (1)\n",
    "valid_input = [0, 1]\n",
    "\n",
    "# Input from the user\n",
    "user_input = int(input(\"Heads (0) or Tails (1):  \"))\n",
    "\n",
    "# Check if the user input is valid\n",
    "if user_input not in valid_input:\n",
    "    print(\"Please enter a valid input (0 for Heads or 1 for Tails)\")\n",
    "else:\n",
    "    # Display a message before tossing the coin\n",
    "    print(\"Let's toss the coin\")\n",
    "\n",
    "    # Simulate the coin toss using the random function\n",
    "    coin_result = random.randint(0, 1)\n",
    "\n",
    "    # Display the result of the coin toss\n",
    "    print(\"Coin Result: \", coin_result)\n",
    "\n",
    "    # Check if the user's guess matches the coin result\n",
    "    if user_input == coin_result:\n",
    "        print(\"You win!\")\n",
    "    else:\n",
    "        print(\"You lose\")\n"
   ]
  },
  {
   "cell_type": "code",
   "execution_count": null,
   "id": "b5803cbd",
   "metadata": {},
   "outputs": [],
   "source": [
    "'''import random\n",
    "\n",
    "print(\"Welcome to Heads and Tails game\")\n",
    "\n",
    "valid_input = [0, 1]\n",
    "user_input = int(input(\"Heads (0) or Tails (1):  \"))\n",
    "# checking valid input\n",
    "\n",
    "if user_input not in valid_input:\n",
    "    print(\"Please enter a valid input (0 for Heads or 1 for Tails)\")\n",
    "else:\n",
    "    print(\"Let's toss the coin\")\n",
    "    coin_result = random.randint(0, 1)     # appling random funtion\n",
    "\n",
    "    print(\"Coin Result: \", coin_result)\n",
    "\n",
    "    if user_input == coin_result:\n",
    "        print(\"You win!\")\n",
    "    else:\n",
    "        print(\"You lose\")'''"
   ]
  }
 ],
 "metadata": {
  "kernelspec": {
   "display_name": "Python 3 (ipykernel)",
   "language": "python",
   "name": "python3"
  },
  "language_info": {
   "codemirror_mode": {
    "name": "ipython",
    "version": 3
   },
   "file_extension": ".py",
   "mimetype": "text/x-python",
   "name": "python",
   "nbconvert_exporter": "python",
   "pygments_lexer": "ipython3",
   "version": "3.11.5"
  }
 },
 "nbformat": 4,
 "nbformat_minor": 5
}
